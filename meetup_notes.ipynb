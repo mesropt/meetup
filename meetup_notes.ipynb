{
 "cells": [
  {
   "cell_type": "markdown",
   "id": "d6c7096d-457b-444d-b3c8-e68fc64a652a",
   "metadata": {},
   "source": [
    "# 0. Intro\n",
    "PyCharm is a dedicated Python Integrated Development Environment (IDE) providing a wide range of essential tools for Python developers, tightly integrated to create a convenient environment for productive Python, web, and data science development.\n",
    "\n",
    "Previously, PyCharm was available in two editions: Community and Professional.\n",
    "\n",
    "Starting with PyCharm 2025.1, PyCharm Community and Professional are combined into a single, unified product: PyCharm.\n",
    "\n",
    "Everything you do in PyCharm, you do within the context of a project. It serves as a basis for coding assistance, bulk refactoring, coding style consistency, and so on. \n",
    "\n",
    "## 1. Navigate through the timeline\n",
    "Remembering all your activity in the project, PyCharm can easily navigate you to the Recent Files Ctrl\n",
    "0E\n",
    " or Recently Changed Files AltShift\n",
    "0C\n",
    "\n",
    "\n",
    "## 2. Find Action\n",
    "Take advantage of many smart actions possible with PyCharm. For example, use the Find Action search CtrlShift\n",
    "0A\n",
    ": just type a part of the action name, and the IDE will show you the list of all available options. Then, select the action you need:\n",
    "\n",
    "## 3. Search Everywhere\n",
    "Отличается от `ctrl + shift + F`. Search Everywhere (Double Shift) ищет во всех элементах проекта: классы, файлы, символы, действия, настройки, инструменты и т.д. Ctrl+Shift+F ищет только текстовые совпадения в файлах проекта.\n",
    "\n",
    "## здесь продолжить с Quick Start guide"
   ]
  },
  {
   "cell_type": "markdown",
   "id": "da68b481-d3e8-405f-99a8-fff568958eac",
   "metadata": {},
   "source": [
    "# 1. Configuring PyCharm settings"
   ]
  },
  {
   "cell_type": "markdown",
   "id": "1be80487-c2eb-40a0-b3db-933946a72865",
   "metadata": {},
   "source": [
    "# 2. Configure projects in PyCharm"
   ]
  },
  {
   "cell_type": "code",
   "execution_count": null,
   "id": "643ead8b-232f-4a87-ad90-b6223835575f",
   "metadata": {},
   "outputs": [],
   "source": []
  },
  {
   "cell_type": "code",
   "execution_count": null,
   "id": "072e9b2f-9995-483b-91c5-077ad00a9ea2",
   "metadata": {},
   "outputs": [],
   "source": []
  },
  {
   "cell_type": "markdown",
   "id": "29179831-a854-4aa9-8ef3-4f0bbf6e9196",
   "metadata": {},
   "source": [
    "# 3. Work with source code"
   ]
  },
  {
   "cell_type": "markdown",
   "id": "2df3a2e0-e948-441e-a57f-6be96e857451",
   "metadata": {},
   "source": [
    "## See recent changes\n",
    "Можно просматривать список недавно изменённых файлов с помощью функции **Recent Changes**, доступной через меню **View | Recent Changes** или сочетание клавиш **Alt+Shift+0C**. Во вкладке **Recent Changes** окна **Local History** отображается перечень изменений, где можно выбрать конкретное изменение и увидеть список затронутых файлов. Двойной щелчок по файлу или нажатие **Enter** открывает окно сравнения, позволяющее просмотреть внесённые изменения и при необходимости их откатить.\n",
    "\n",
    "## 2. Local History в PyCharm\n",
    "\n",
    "Функция **Local History** в PyCharm как машина времени — она сохраняет все изменения в файлах, даже если ты не используешь Git или другую систему контроля версий. Вот как ею пользоваться:\n",
    "\n",
    "**Как найти и использовать Local History в PyCharm**\n",
    "\n",
    "**1. Открыть историю изменений файла**\n",
    "- **ПКМ (правая кнопка мыши) на файле или внутри редактора кода**\n",
    "- Выбери **Local History → Show History**\n",
    "\n",
    "**2. Что ты увидишь**\n",
    "Откроется окно с хронологией всех изменений:\n",
    "- Левая панель — список всех изменений с датой и временем.\n",
    "- Правая панель — сравнение текущей версии с выбранной (diff).\n",
    "\n",
    "**3. Как откатиться к прошлой версии**\n",
    "- Выбери нужную версию из списка.\n",
    "- Нажми **Revert** (или просто скопируй нужные строки из старой версии).\n",
    "\n",
    "**4. Как использовать Local History для папки**\n",
    "- ПКМ по папке в проекте → **Local History → Show History**\n",
    "- Показывает изменения всех файлов в папке.\n",
    "\n",
    "---\n",
    "\n",
    "**Пример: если ты случайно удалил строку**\n",
    "1. Зашёл в файл `views.py`\n",
    "2. Удалил строку с функцией `def my_view():`\n",
    "3. Через 5 минут понял, что она была важной.\n",
    "4. ПКМ → Local History → Show History → Найдешь там удалённую строку → Revert.\n",
    "\n",
    "---\n",
    "\n",
    "**Советы**\n",
    "- Local History **сохраняется только в пределах PyCharm**, пока ты не удалишь проект или не очистишь кэш.\n",
    "- Лучше всё равно использовать **Git** — Local History не заменяет полноценную систему контроля версий."
   ]
  },
  {
   "cell_type": "markdown",
   "id": "670bbd48-6f4f-4797-abb6-6d2391c2b277",
   "metadata": {},
   "source": [
    "## Breadcrumbs\n",
    "Breadcrumbs (хлебные крошки) - показывает путь текущего куска кода: например, `ClassName > method_name > inner_block`. Отображается внизу или вверху редактора кода (можно настроить — Top, Bottom, Don't Show). Помогает быстро понять, в каком контексте ты сейчас находишься. Упрощает навигацию по вложенным структурам.\n",
    "\n",
    "Как настроить: `Gutter > Appearance > Breadcrumbs`"
   ]
  },
  {
   "cell_type": "markdown",
   "id": "b87c467d-ba8d-4ded-8aed-6289545b69d9",
   "metadata": {},
   "source": [
    "## Bookmark / Mnemonic Bookmark\n",
    "Строковые закладки используются для того, чтобы пометить определённые строки кода и быстро переходить к ним позже. Бывают `анонимные (Bookmark)` и `именованные (Mnemonic Bookmark)`.\n",
    "\n",
    "\n",
    "Как настроить: `Gutter > Add Bookmark` /  `Add Mnemonic Bookmark...`\n",
    "\n",
    "### Use bookmarks for navigation\n",
    "Чтобы открыть окно управления закладками удобнее всего либо нажать **Shift + F11** либо выбрать в окне Bookmarks главного меню:\n",
    "В главном меню выберите:\n",
    "**Navigate | Bookmarks | Next Bookmark** — чтобы перейти к следующей закладке\n",
    "**Navigate | Bookmarks | Previous Bookmark** — чтобы перейти к предыдущей закладке\n",
    "\n",
    "**Открытие диалога \"Bookmarks\"**\n",
    "\n",
    "Нажмите **Shift + F11**, чтобы открыть окно управления закладками.\n",
    "В этом окне можно:\n",
    "\n",
    "* удалять закладки,\n",
    "* сортировать их,\n",
    "* добавлять краткие описания к закладкам.\n",
    "\n",
    "**Быстрая навигация по закладкам с помощью мнемоники**\n",
    "\n",
    "* Чтобы перейти к закладке, привязанной к **букве**, нажмите **Shift + F11**, затем нужную **букву**.\n",
    "  PyCharm вернёт вас в редактор и откроет соответствующую закладку.\n",
    "\n",
    "* Чтобы перейти к закладке, привязанной к **цифре**, нажмите **Ctrl + \\[номер закладки]**.\n",
    "\n",
    "## See recent changes\n",
    "View | Recent Changes в PyCharm позволяет просматривать последние изменения файлов в проекте, как локальные, так и внешние. Через это окно можно открыть просмотр отличий и при необходимости откатить изменения.\n",
    "\n",
    "## Call hierarchy / type hierarchy \n",
    "В PyCharm есть два типа иерархий: Call hierarchy и Type hierarchy. Call hierarchy показывает, кто вызывает (caller) или кем вызывается (callee) конкретный метод — это полезно для анализа логики выполнения кода и зависимости между функциями. Type hierarchy отображает наследование классов — то есть, кто является родительским или дочерним классом относительно выбранного, что важно для понимания архитектуры ООП. \n",
    "        \n",
    "In the main menu, go to Navigate | Type Hierarchy or just press Ctrl\n",
    "In the main menu, go to Navigate | Call Hierarchy or press CtrlAlt\n",
    "\n",
    "## Full-text search in databases\n",
    "Проверить по БД https://www.jetbrains.com/help/pycharm/full-text-search-for-databases.html\n",
    "\n",
    "## Extract superclass \n",
    "Может быть, надо подумать.\n",
    "\n",
    "## Extract parameter\n",
    "Может быть, надо подумать.\n",
    "\n",
    "## Inline & Extract Variable\n",
    "Может быть, надо подумать.\n",
    "\n",
    "## Invert boolean\n",
    "Фича **Invert Boolean** в PyCharm автоматически меняет булевую переменную на противоположную (True → False) и инвертирует всю связанную с ней логику (добавляя или убирая `not`), чтобы упростить чтение и сделать имена переменных более естественными, не изменяя общий смысл программы.\n",
    "\n",
    "## Invert boolean\n",
    "Может быть, надо подумать.\n",
    "\n",
    "## Кастомные туду\n",
    "Может быть, надо подумать.\n",
    "\n",
    "## Scratch Files и Scratch Buffers\n",
    "\n",
    "Скрачи общие для всех проектов, так как хранятся в конфигурационных папках PyCharm.\n",
    "\n",
    "## Macros\n",
    "Может быть, надо подумать.\n",
    "\n",
    "## Scripting console\n",
    "Знать что есть, но о нём не буду рассказывать.\n",
    "\n",
    "## Console. Django Console and manage.py options\n",
    "Не понятно.\n",
    " \n",
    "## UML class diagrams\n",
    "ОБЯЗАТЕЛЬНО - https://www.jetbrains.com/help/pycharm/class-diagram.html#context\n",
    "\n",
    "## Analyze external stack traces\n",
    "Функция \"Analyze external stack traces\" в PyCharm позволяет быстро разбирать ошибки и зависания, полученные от других людей (например, тестировщиков или пользователей), вставив стек вызовов или дамп потока из внешнего источника и автоматически перейти к нужным строкам кода в проекте. Это упрощает поиск причины проблемы, особенно когда ошибка возникла не у вас локально, а где-то в продакшене или на тестовом сервере, где нет прямой навигации по исходникам. Инструмент экономит время, помогает точно локализовать баг и быстро перейти к исправлению, следуя принципам KISS и DRY.\n",
    "\n",
    "## Local History\n",
    "ОБЯЗАТЕЛЬНО - https://www.jetbrains.com/help/pycharm/local-history.html#location"
   ]
  },
  {
   "cell_type": "markdown",
   "id": "36fa977f-62a7-4c2e-b742-f8e4b35ca0d1",
   "metadata": {},
   "source": [
    "# 4. Run, debug, test, and deploy\n",
    "\n"
   ]
  },
  {
   "cell_type": "markdown",
   "id": "6afb8cd4-dcb5-47db-8da6-5dc77d7735a7",
   "metadata": {},
   "source": [
    "# 5. Python"
   ]
  },
  {
   "cell_type": "markdown",
   "id": "64fcdafe-0097-4022-b2af-969cc1bb35d6",
   "metadata": {},
   "source": [
    "# 6. Languages and frameworks"
   ]
  },
  {
   "cell_type": "markdown",
   "id": "b1798235-fcb0-4ef4-87dc-0e5bbfca6810",
   "metadata": {},
   "source": [
    "# 7. AI Assistant"
   ]
  },
  {
   "cell_type": "markdown",
   "id": "180e59c2-ddda-47c2-bc1b-2cccef2dd9e7",
   "metadata": {},
   "source": [
    "# 8. Integrated tools"
   ]
  },
  {
   "cell_type": "markdown",
   "id": "90b0c100-a4cf-448a-9373-3d9f81487647",
   "metadata": {},
   "source": [
    "# 9. Data Science and ML Tools"
   ]
  },
  {
   "cell_type": "markdown",
   "id": "596104aa-8582-4643-8ff9-eecfbc91014e",
   "metadata": {},
   "source": [
    "# 10. Big Data Tools"
   ]
  },
  {
   "cell_type": "markdown",
   "id": "12e556a0-9b74-4e0b-9e71-5a229b9eb481",
   "metadata": {},
   "source": [
    "# 11. SSH, Docker, Vagrant"
   ]
  },
  {
   "cell_type": "markdown",
   "id": "14672b84-4a13-4817-b43c-cf0492828e46",
   "metadata": {},
   "source": [
    "# 12. Database Tools and SQL\n",
    "\n",
    "## DDL\n",
    "\n",
    "## Sessions [Alt + 8]\n",
    "Каждая сессия — это обёртка над одним соединением, и она хранит информацию об этом соединении (например, активно ли оно, режим управления транзакциями и другие настройки).\n",
    "\n",
    "У сессий могут быть клиенты — файлы, запросы которых отправляются с использованием соединения, которое удерживает сессия. Редактор данных также может быть клиентом сессии.\n",
    "\n",
    "Например, когда вы дважды щёлкаете по таблице в окне **Database** (База данных), создаётся новая сессия, которая подключается к базе данных, и таблица прикрепляется к этой сессии в качестве клиента.\n",
    "\n",
    "Вы можете просматривать источники данных, сессии и клиентов сессий в окне **Services** (Сервисы). Зелёная точка в углу значка сессии указывает на то, что сессия подключена."
   ]
  },
  {
   "cell_type": "markdown",
   "id": "1c51b909-2190-4eb7-b0c0-9a865ba6ceba",
   "metadata": {},
   "source": [
    "# 13. Version control"
   ]
  },
  {
   "cell_type": "code",
   "execution_count": null,
   "id": "36c32849-1deb-4073-8e6c-ec201b64c7fe",
   "metadata": {},
   "outputs": [],
   "source": []
  },
  {
   "cell_type": "code",
   "execution_count": null,
   "id": "0eab4880-e9ec-4856-933d-c1e3337837a2",
   "metadata": {},
   "outputs": [],
   "source": []
  },
  {
   "cell_type": "markdown",
   "id": "c17f817e-b85e-4f17-83f5-2a11bc6b8e7c",
   "metadata": {},
   "source": [
    "Если том задекларирован в docker-compose.yml, он считается используемым (In Use)\n",
    "\n",
    "Поэтому он синий"
   ]
  },
  {
   "cell_type": "markdown",
   "id": "43f39cde-3f33-4710-a004-8edc3eae0c01",
   "metadata": {},
   "source": [
    "# 14. Недефолтные плагины\n",
    "## GitToolBox (Git Blame annotations делает это сплошняком)\n",
    "При выборе строки показывает автора, дату и сообщение комита"
   ]
  },
  {
   "cell_type": "code",
   "execution_count": null,
   "id": "d37ca0f1-70d1-4ac4-b770-82a2419c1094",
   "metadata": {},
   "outputs": [],
   "source": [
    "test"
   ]
  },
  {
   "cell_type": "markdown",
   "id": "c4e5261f-3937-4da5-b1c3-01da9be6f8c2",
   "metadata": {},
   "source": [
    "PyCharm имеет встроенный статический анализ кода, который запускается как автоматически (в редакторе), так и вручную (Inspect Code, Analyze before Commit, CI-интеграция через Qodana) (Qodana — это просто \"вынос\" этого анализатора для CI/CD.)"
   ]
  },
  {
   "cell_type": "code",
   "execution_count": null,
   "id": "6b524f2e-d370-48e7-a6e3-51a261042dc5",
   "metadata": {},
   "outputs": [],
   "source": []
  }
 ],
 "metadata": {
  "kernelspec": {
   "display_name": "Python 3 (ipykernel)",
   "language": "python",
   "name": "python3"
  },
  "language_info": {
   "codemirror_mode": {
    "name": "ipython",
    "version": 3
   },
   "file_extension": ".py",
   "mimetype": "text/x-python",
   "name": "python",
   "nbconvert_exporter": "python",
   "pygments_lexer": "ipython3",
   "version": "3.13.2"
  }
 },
 "nbformat": 4,
 "nbformat_minor": 5
}
